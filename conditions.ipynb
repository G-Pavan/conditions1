{
 "cells": [
  {
   "cell_type": "code",
   "execution_count": 1,
   "id": "2c25677d",
   "metadata": {},
   "outputs": [
    {
     "name": "stdout",
     "output_type": "stream",
     "text": [
      "largest: 98\n"
     ]
    }
   ],
   "source": [
    "a=int(input(\"enter a:\"))\n",
    "b=int(input(\"enter b:\"))\n",
    "if a>b:\n",
    "    print(\"largest:\",a)\n",
    "elif a<b:\n",
    "    print(\"largest:\",b)\n",
    "else:\n",
    "    print(\"both number are equal\")        "
   ]
  },
  {
   "cell_type": "code",
   "execution_count": 12,
   "id": "132a1373",
   "metadata": {},
   "outputs": [
    {
     "name": "stdout",
     "output_type": "stream",
     "text": [
      "15151 is positive number\n",
      "15151 is odd\n"
     ]
    }
   ],
   "source": [
    "#nested if for checking the number is both positive and even\n",
    "num=int(input(\"enter the number:\"))\n",
    "if num>0:\n",
    "    print(num,\"is positive number\")\n",
    "    if num%2==0:\n",
    "        print(num,\"is even\")\n",
    "    else:\n",
    "        print(num,\"is odd\")\n",
    "else:\n",
    "    print(num,\" is non-positive\")             "
   ]
  },
  {
   "cell_type": "code",
   "execution_count": 13,
   "id": "7b330c74",
   "metadata": {},
   "outputs": [
    {
     "name": "stdout",
     "output_type": "stream",
     "text": [
      "access granted!!\n",
      "amount withdraw: 4515\n",
      "remaining balance: 485\n",
      "thankyou for using our atm services!!\n"
     ]
    }
   ],
   "source": [
    "pin=int(input(\"enter your 4-digit pin numkber:\"))\n",
    "spin=1234\n",
    "balance=5000\n",
    "if pin==spin:\n",
    "    print(\"access granted!!\")\n",
    "    withdraw=int(input(\"enter amount:\"))\n",
    "    if withdraw>balance:\n",
    "        print(\"insufficent funds!!!\")\n",
    "    else:\n",
    "        print(\"amount withdraw:\",withdraw)\n",
    "        print(\"remaining balance:\",balance-withdraw)\n",
    "        print(\"thankyou for using our atm services!!\")\n",
    "else:\n",
    "    print(\"access denied !! invilid pin number.\")\n",
    "    print(\"please try again!!\")    \n"
   ]
  }
 ],
 "metadata": {
  "kernelspec": {
   "display_name": "Python 3",
   "language": "python",
   "name": "python3"
  },
  "language_info": {
   "codemirror_mode": {
    "name": "ipython",
    "version": 3
   },
   "file_extension": ".py",
   "mimetype": "text/x-python",
   "name": "python",
   "nbconvert_exporter": "python",
   "pygments_lexer": "ipython3",
   "version": "3.12.10"
  }
 },
 "nbformat": 4,
 "nbformat_minor": 5
}
