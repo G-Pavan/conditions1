{
 "cells": [
  {
   "cell_type": "code",
   "execution_count": 3,
   "id": "cca28183",
   "metadata": {},
   "outputs": [
    {
     "name": "stdout",
     "output_type": "stream",
     "text": [
      "total amount: 25\n"
     ]
    }
   ],
   "source": [
    "#function with parameters\n",
    "def add(a,b):\n",
    "    return a+b\n",
    "student1=int(input(\"enter the money:\"))\n",
    "student2=int(input(\"enter the money:\"))\n",
    "total=add(student1,student2)\n",
    "print(\"total amount:\",total)"
   ]
  },
  {
   "cell_type": "code",
   "execution_count": 7,
   "id": "7ea5f436",
   "metadata": {},
   "outputs": [
    {
     "name": "stdout",
     "output_type": "stream",
     "text": [
      "total 20\n"
     ]
    }
   ],
   "source": [
    "#function with parameters/return values\n",
    "def add(a,b):\n",
    "    print(\"total\",student1+student2)    \n",
    "student1=int(input(\"enter the money:\"))\n",
    "student2=int(input(\"enter the money:\"))\n",
    "total=add(student1,student2)\n"
   ]
  },
  {
   "cell_type": "code",
   "execution_count": 8,
   "id": "1fc824ec",
   "metadata": {},
   "outputs": [
    {
     "name": "stdout",
     "output_type": "stream",
     "text": [
      "value in the function is 3.14159\n"
     ]
    }
   ],
   "source": [
    "def value():\n",
    "    return 3.14159\n",
    "result=value()\n",
    "print(\"value in the function is\",result)"
   ]
  },
  {
   "cell_type": "code",
   "execution_count": 9,
   "id": "fb845e65",
   "metadata": {},
   "outputs": [
    {
     "name": "stdout",
     "output_type": "stream",
     "text": [
      "welcome pavan\n"
     ]
    }
   ],
   "source": [
    "def get_name():\n",
    "    name=input(\"enter your name:\")\n",
    "    return name\n",
    "username=get_name()\n",
    "print(\"welcome\",username)"
   ]
  },
  {
   "cell_type": "code",
   "execution_count": 11,
   "id": "7a22ed23",
   "metadata": {},
   "outputs": [
    {
     "name": "stdout",
     "output_type": "stream",
     "text": [
      "120\n"
     ]
    }
   ],
   "source": [
    "a=100\n",
    "def value(a):\n",
    "     return a+20\n",
    "op=value(a)\n",
    "print(op)"
   ]
  },
  {
   "cell_type": "code",
   "execution_count": 17,
   "id": "2d9e5672",
   "metadata": {},
   "outputs": [
    {
     "name": "stdout",
     "output_type": "stream",
     "text": [
      "name pavan\n",
      "age 22\n",
      "name rishi\n",
      "age 0\n",
      "name 30\n",
      "age 0\n",
      "name unknown\n",
      "age 0\n"
     ]
    }
   ],
   "source": [
    "def info(name=\"unknown\",age=0):\n",
    "    print(\"name\",name)\n",
    "    print(\"age\",age)\n",
    "info(\"pavan\",22)\n",
    "info(\"rishi\")\n",
    "info(30)\n",
    "info()    "
   ]
  },
  {
   "cell_type": "code",
   "execution_count": 20,
   "id": "6075acee",
   "metadata": {},
   "outputs": [
    {
     "name": "stdout",
     "output_type": "stream",
     "text": [
      "sum= 20\n",
      "subtract= 10\n",
      "mul= 75\n",
      "div= 3.0\n"
     ]
    }
   ],
   "source": [
    "#mul return values\n",
    "def cal(a,b):\n",
    "    return a+b,a-b,a*b,a/b\n",
    "a=int(input(\"enter a number a:\"))\n",
    "b=int(input(\"enter a number b:\"))\n",
    "sum,sub,mul,div=cal(a,b)\n",
    "print(\"sum=\",sum)\n",
    "print(\"subtract=\",sub)\n",
    "print(\"mul=\",mul)\n",
    "print(\"div=\",div)"
   ]
  },
  {
   "cell_type": "code",
   "execution_count": 21,
   "id": "b7f31312",
   "metadata": {},
   "outputs": [
    {
     "name": "stdout",
     "output_type": "stream",
     "text": [
      "min 12\n",
      "max 113\n"
     ]
    }
   ],
   "source": [
    "def values(a,b,c):\n",
    "    print(\"min\",min(a,b,c))\n",
    "    print(\"max\",max(a,b,c))\n",
    "a=int(input(\"enter a:\"))\n",
    "b=int(input(\"enter b:\"))\n",
    "c=int(input(\"enter c:\"))\n",
    "values(a,b,c)    \n"
   ]
  },
  {
   "cell_type": "code",
   "execution_count": 2,
   "id": "21890177",
   "metadata": {},
   "outputs": [
    {
     "name": "stdout",
     "output_type": "stream",
     "text": [
      "46\n",
      "15\n"
     ]
    }
   ],
   "source": [
    "def check(a,b,c):\n",
    "    return max(a,b,c),min(a,b,c)\n",
    "a=int(input(\"enter a:\"))\n",
    "b=int(input(\"enter b:\"))\n",
    "c=int(input(\"enter b:\"))\n",
    "max,min=check(a,b,c)\n",
    "print(max)\n",
    "print(min)"
   ]
  },
  {
   "cell_type": "code",
   "execution_count": 8,
   "id": "a31bc59e",
   "metadata": {},
   "outputs": [
    {
     "name": "stdout",
     "output_type": "stream",
     "text": [
      "even count: 2\n",
      "ood count: 5\n"
     ]
    }
   ],
   "source": [
    "#constrain:give the input as user defined\n",
    "def eo(numbers):\n",
    "    e=0\n",
    "    o=0\n",
    "    for n in numbers:\n",
    "        if n%2==0:\n",
    "            e+=1\n",
    "        else:\n",
    "            o+=1\n",
    "    return e,o            \n",
    "num=input(\"enter the number as space seperted:\")\n",
    "num_list=list(map(int,num.split()))\n",
    "e,o=eo(num_list)\n",
    "print(\"even count:\",e)\n",
    "print(\"ood count:\",o)\n"
   ]
  },
  {
   "cell_type": "code",
   "execution_count": 10,
   "id": "c07e38f0",
   "metadata": {},
   "outputs": [],
   "source": [
    "expo=lambda a:a**a\n",
    "print=(expo(3))"
   ]
  }
 ],
 "metadata": {
  "kernelspec": {
   "display_name": "base",
   "language": "python",
   "name": "python3"
  },
  "language_info": {
   "codemirror_mode": {
    "name": "ipython",
    "version": 3
   },
   "file_extension": ".py",
   "mimetype": "text/x-python",
   "name": "python",
   "nbconvert_exporter": "python",
   "pygments_lexer": "ipython3",
   "version": "3.12.7"
  }
 },
 "nbformat": 4,
 "nbformat_minor": 5
}
