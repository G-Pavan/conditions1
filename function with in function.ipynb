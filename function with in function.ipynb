{
 "cells": [
  {
   "cell_type": "code",
   "execution_count": 2,
   "id": "bcc636e5",
   "metadata": {},
   "outputs": [
    {
     "name": "stdout",
     "output_type": "stream",
     "text": [
      "this is outer function...\n",
      "this is inner function...\n"
     ]
    }
   ],
   "source": [
    "#function with in functions\n",
    "def outer():\n",
    "    print(\"this is outer function...\")\n",
    "    def inner():\n",
    "        print(\"this is inner function...\")\n",
    "    inner()\n",
    "outer()         "
   ]
  },
  {
   "cell_type": "code",
   "execution_count": 3,
   "id": "6e071bbd",
   "metadata": {},
   "outputs": [
    {
     "name": "stdout",
     "output_type": "stream",
     "text": [
      "addition 469\n",
      "subtract -401\n",
      "mul 14790\n"
     ]
    }
   ],
   "source": [
    "def cal():\n",
    "    def add():\n",
    "        return a+b\n",
    "    def sub():\n",
    "        return a-b\n",
    "    def mul():\n",
    "        return a*b\n",
    "    print(\"addition\",add())\n",
    "    print(\"subtract\",sub())\n",
    "    print(\"mul\",mul())\n",
    "a=int(input(\"enter a number\"))\n",
    "b=int(input(\"enter a number\"))\n",
    "cal()  \n",
    "\n"
   ]
  },
  {
   "cell_type": "code",
   "execution_count": 4,
   "id": "dcb09ed8",
   "metadata": {},
   "outputs": [
    {
     "name": "stdout",
     "output_type": "stream",
     "text": [
      "hello,pavan... hii,rishi...\n"
     ]
    }
   ],
   "source": [
    "def greet(text):\n",
    "    def inner(name):\n",
    "        return f\"{text},{name}...\"\n",
    "    return inner    \n",
    "\n",
    "\n",
    "hii2=greet(\"hii\")\n",
    "hii=greet(\"hello\")\n",
    "print(hii(\"pavan\"),hii2(\"rishi\"))"
   ]
  },
  {
   "cell_type": "code",
   "execution_count": 5,
   "id": "2334ae7a",
   "metadata": {},
   "outputs": [
    {
     "name": "stdout",
     "output_type": "stream",
     "text": [
      "10\n",
      "30\n"
     ]
    }
   ],
   "source": [
    "def mul_by(n):\n",
    "    def inner(x):\n",
    "        return x*n\n",
    "    return inner\n",
    "times_2=mul_by(2)\n",
    "times_3=mul_by(3)\n",
    "print(times_2(5))\n",
    "print(times_3(10))"
   ]
  },
  {
   "cell_type": "code",
   "execution_count": 8,
   "id": "5f984156",
   "metadata": {},
   "outputs": [
    {
     "name": "stdout",
     "output_type": "stream",
     "text": [
      "hello,mr.pavan\n",
      "hello,Dr.rishi\n"
     ]
    }
   ],
   "source": [
    "def titled(txt):\n",
    "    def inner(name):\n",
    "        return f\"hello,{txt}{name}\"\n",
    "    return inner\n",
    "\n",
    "\n",
    "\n",
    "mr_greet=titled(\"mr.\")\n",
    "Dr_greet=titled(\"Dr.\")\n",
    "print(mr_greet(\"pavan\"))\n",
    "print(Dr_greet(\"rishi\"))"
   ]
  },
  {
   "cell_type": "code",
   "execution_count": 9,
   "id": "040bb581",
   "metadata": {},
   "outputs": [
    {
     "name": "stdout",
     "output_type": "stream",
     "text": [
      "latest value of globally: 25\n",
      "globally 125\n"
     ]
    }
   ],
   "source": [
    "x=100\n",
    "y=10\n",
    "def didplay():\n",
    "    x=22\n",
    "    print(\"x=\",x)\n",
    "    print(\"local\",x+y)\n",
    "display()\n",
    "y=10\n",
    "y=25\n",
    "print(\"latest value of globally:\",y)\n",
    "print(\"globally\",x+y)    "
   ]
  },
  {
   "cell_type": "code",
   "execution_count": 16,
   "id": "6fee42f1",
   "metadata": {},
   "outputs": [
    {
     "name": "stdout",
     "output_type": "stream",
     "text": [
      "subjectr1 marks 34\n",
      "subjectr2 marks 56\n",
      "subjectr3 marks 45\n",
      "total marks stored in global 135\n",
      "average: 33.33333333333333\n"
     ]
    }
   ],
   "source": [
    "total=0\n",
    "def add_subject_marks():\n",
    "    global total,avg\n",
    "    marks=int(input(\"enter marks of a subjects:\"))\n",
    "    total+=marks\n",
    "    avg=marks/total*100\n",
    "    return marks\n",
    "\n",
    "print(\"subjectr1 marks\",add_subject_marks())\n",
    "print(\"subjectr2 marks\",add_subject_marks())\n",
    "print(\"subjectr3 marks\",add_subject_marks())\n",
    "print(\"total marks stored in global\",total)\n",
    "print(\"average:\",avg)\n"
   ]
  },
  {
   "cell_type": "code",
   "execution_count": 24,
   "id": "7a41ee6c",
   "metadata": {},
   "outputs": [
    {
     "name": "stdout",
     "output_type": "stream",
     "text": [
      "subject 1 marks: 12\n",
      "subject 2 marks: 25\n",
      "subject 3 marks: 36\n",
      "allsubject marks [12, 25, 36]\n"
     ]
    },
    {
     "ename": "TypeError",
     "evalue": "'int' object is not callable",
     "output_type": "error",
     "traceback": [
      "\u001b[31m---------------------------------------------------------------------------\u001b[39m",
      "\u001b[31mTypeError\u001b[39m                                 Traceback (most recent call last)",
      "\u001b[36mCell\u001b[39m\u001b[36m \u001b[39m\u001b[32mIn[24]\u001b[39m\u001b[32m, line 10\u001b[39m\n\u001b[32m      8\u001b[39m \u001b[38;5;28mprint\u001b[39m(\u001b[33m\"\u001b[39m\u001b[33msubject 3 marks:\u001b[39m\u001b[33m\"\u001b[39m,add_subject_marks())\n\u001b[32m      9\u001b[39m \u001b[38;5;28mprint\u001b[39m(\u001b[33m\"\u001b[39m\u001b[33mallsubject marks\u001b[39m\u001b[33m\"\u001b[39m,subject_marks)\n\u001b[32m---> \u001b[39m\u001b[32m10\u001b[39m total=\u001b[38;5;28;43msum\u001b[39;49m\u001b[43m(\u001b[49m\u001b[43msubject_marks\u001b[49m\u001b[43m)\u001b[49m\n\u001b[32m     11\u001b[39m l=\u001b[38;5;28mlen\u001b[39m(subject_marks)\n\u001b[32m     12\u001b[39m avg=total/l\n",
      "\u001b[31mTypeError\u001b[39m: 'int' object is not callable"
     ]
    }
   ],
   "source": [
    "subject_marks=[]\n",
    "def add_subject_marks():\n",
    "    mark=int(input(\"enter amarks for subject:\"))\n",
    "    subject_marks.append(mark)\n",
    "    return mark\n",
    "print(\"subject 1 marks:\",add_subject_marks())\n",
    "print(\"subject 2 marks:\",add_subject_marks())\n",
    "print(\"subject 3 marks:\",add_subject_marks())\n",
    "print(\"allsubject marks\",subject_marks)\n",
    "total=sum(subject_marks)\n",
    "l=len(subject_marks)\n",
    "avg=total/l\n",
    "print(\"total marks\",total)\n",
    "print(\"average:\",avg)"
   ]
  }
 ],
 "metadata": {
  "kernelspec": {
   "display_name": "base",
   "language": "python",
   "name": "python3"
  },
  "language_info": {
   "codemirror_mode": {
    "name": "ipython",
    "version": 3
   },
   "file_extension": ".py",
   "mimetype": "text/x-python",
   "name": "python",
   "nbconvert_exporter": "python",
   "pygments_lexer": "ipython3",
   "version": "3.12.7"
  }
 },
 "nbformat": 4,
 "nbformat_minor": 5
}
