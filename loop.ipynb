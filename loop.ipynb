{
 "cells": [
  {
   "cell_type": "code",
   "execution_count": 1,
   "id": "6a92c7bf",
   "metadata": {},
   "outputs": [
    {
     "name": "stdout",
     "output_type": "stream",
     "text": [
      "1 2 3 4 5 6 7 8 9 10 11 12 13 14 15 16 17 18 19 20 21 22 23 24 25 26 27 28 29 30 31 32 33 34 35 36 37 38 39 40 41 42 43 44 45 46 47 48 49 50 "
     ]
    }
   ],
   "source": [
    "num=int(input(\"enter a number:\"))\n",
    "loop=1\n",
    "while loop<=num:\n",
    "    print(loop,end=\" \")\n",
    "    loop+=1"
   ]
  },
  {
   "cell_type": "code",
   "execution_count": 4,
   "id": "5075ef15",
   "metadata": {},
   "outputs": [
    {
     "name": "stdout",
     "output_type": "stream",
     "text": [
      "50 49 48 47 46 45 44 43 42 41 40 39 38 37 36 35 34 33 32 31 30 29 28 27 26 25 24 23 22 21 20 19 18 17 16 15 14 13 12 11 10 9 8 7 6 5 4 3 2 1 "
     ]
    }
   ],
   "source": [
    "num=int(input(\"enter a num\"))\n",
    "loop=50\n",
    "while loop>=num:\n",
    "    print(loop,end=\" \")\n",
    "    loop-=1"
   ]
  },
  {
   "cell_type": "code",
   "execution_count": 2,
   "id": "8c7b0da0",
   "metadata": {},
   "outputs": [
    {
     "name": "stdout",
     "output_type": "stream",
     "text": [
      "sum of digits 12\n"
     ]
    }
   ],
   "source": [
    "num=int(input(\"enter a num:\"))\n",
    "sum=0\n",
    "while num>0:\n",
    "    digit=num%10\n",
    "    sum+=digit\n",
    "    num=num//10\n",
    "print(\"sum of digits\",sum)    "
   ]
  },
  {
   "cell_type": "code",
   "execution_count": 4,
   "id": "44a476f2",
   "metadata": {},
   "outputs": [
    {
     "name": "stdout",
     "output_type": "stream",
     "text": [
      "reverse of the number is 1654\n"
     ]
    }
   ],
   "source": [
    "num=int(input(\"enter a number:\"))\n",
    "rev=0\n",
    "while num>0:\n",
    "    digit= num%10\n",
    "    rev= rev*10 + digit\n",
    "    num=num//10\n",
    "print(\"reverse of the number is\",rev)    "
   ]
  },
  {
   "cell_type": "code",
   "execution_count": 8,
   "id": "b489582e",
   "metadata": {},
   "outputs": [
    {
     "name": "stdout",
     "output_type": "stream",
     "text": [
      "latest value of sum: 5515476\n",
      "1654695 is not a amstrong number\n"
     ]
    }
   ],
   "source": [
    "#check the amstrong number\n",
    "num=int(input(\"enter num value:\"))\n",
    "temp=num\n",
    "n=len(str(num))\n",
    "sum=0\n",
    "while temp>0:\n",
    "    digit=temp%10\n",
    "    sum+=digit**n\n",
    "    temp//=10\n",
    "print(\"latest value of sum:\",sum)\n",
    "if sum==num:\n",
    "    print(num,\"is a amstrong number\")\n",
    "else:\n",
    "    print(num,\"is not a amstrong number\")        \n"
   ]
  },
  {
   "cell_type": "code",
   "execution_count": null,
   "id": "0f6896b6",
   "metadata": {},
   "outputs": [
    {
     "name": "stdout",
     "output_type": "stream",
     "text": [
      "1256 the number is a nivens number\n"
     ]
    }
   ],
   "source": [
    "#check the nivens number\n",
    "num=int(input(\"enter the num:\"))\n",
    "temp=num\n",
    "sum=0\n",
    "while temp>0:\n",
    "    digit=temp%10\n",
    "    sum+=digit\n",
    "    temp//=10\n",
    "if temp%sum==0:\n",
    "    print(num,\"the number is a nivens number\")\n",
    "else:\n",
    "    print(num,\"it is not a nivens number\")\n",
    "    \n"
   ]
  },
  {
   "cell_type": "code",
   "execution_count": 15,
   "id": "dd63dcff",
   "metadata": {},
   "outputs": [
    {
     "name": "stdout",
     "output_type": "stream",
     "text": [
      "squar of  1 is 1\n",
      "squar of  2 is 4\n",
      "squar of  3 is 9\n",
      "squar of  4 is 16\n",
      "squar of  5 is 25\n",
      "squar of  6 is 36\n",
      "squar of  7 is 49\n",
      "squar of  8 is 64\n",
      "squar of  9 is 81\n",
      "squar of  10 is 100\n"
     ]
    }
   ],
   "source": [
    "for i in range(1,11):\n",
    "    print(\"squar of \",i-1+1,\"is\",i**2)"
   ]
  },
  {
   "cell_type": "code",
   "execution_count": 42,
   "id": "7129eda3",
   "metadata": {},
   "outputs": [
    {
     "name": "stdout",
     "output_type": "stream",
     "text": [
      "120\n"
     ]
    }
   ],
   "source": [
    "n=int(input(\"enter n value:\"))\n",
    "for i in range(1,n+1):\n",
    "    if i==1:\n",
    "        fact=1\n",
    "    else:\n",
    "        fact*=i\n",
    "print(fact)    "
   ]
  },
  {
   "cell_type": "code",
   "execution_count": null,
   "id": "e4744bf9",
   "metadata": {},
   "outputs": [],
   "source": []
  }
 ],
 "metadata": {
  "kernelspec": {
   "display_name": "base",
   "language": "python",
   "name": "python3"
  },
  "language_info": {
   "codemirror_mode": {
    "name": "ipython",
    "version": 3
   },
   "file_extension": ".py",
   "mimetype": "text/x-python",
   "name": "python",
   "nbconvert_exporter": "python",
   "pygments_lexer": "ipython3",
   "version": "3.12.7"
  }
 },
 "nbformat": 4,
 "nbformat_minor": 5
}
