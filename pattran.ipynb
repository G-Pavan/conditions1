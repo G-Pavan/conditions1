{
 "cells": [
  {
   "cell_type": "code",
   "execution_count": 46,
   "id": "e64fe3db",
   "metadata": {},
   "outputs": [
    {
     "name": "stdout",
     "output_type": "stream",
     "text": [
      "\n",
      "0 \n",
      "0 1 \n",
      "0 1 2 \n",
      "0 1 2 3 \n"
     ]
    }
   ],
   "source": [
    "n=int(input(\"enter a size\"))\n",
    "for i in range(n):\n",
    "    for j in range(i):\n",
    "        print(j,end=\" \")\n",
    "    print()              "
   ]
  },
  {
   "cell_type": "code",
   "execution_count": 66,
   "id": "da85e1b1",
   "metadata": {},
   "outputs": [
    {
     "name": "stdout",
     "output_type": "stream",
     "text": [
      "        \n",
      "      * \n",
      "    * \n",
      "  * \n",
      "* \n",
      "  * * * * * * \n",
      "    * * * * \n",
      "      * * \n",
      "        \n"
     ]
    }
   ],
   "source": [
    "n=int(input(\"enter a size\"))\n",
    "for i in range(1,n+1):\n",
    "    for j in range(n-i):\n",
    "        print(' ',end=' ')\n",
    "    for k in range(2*i-2):\n",
    "        if k==0 or k==2*i-2:\n",
    "            print(\"*\",end=\" \")\n",
    "    print()      \n",
    "for i in range(n-1,0,-1):\n",
    "    for j in range(n-i):\n",
    "        print(' ',end=' ')\n",
    "    for k in range(2*i-2):\n",
    "        print(\"*\",end=\" \")\n",
    "    print()        "
   ]
  },
  {
   "cell_type": "code",
   "execution_count": 69,
   "id": "aab56f5c",
   "metadata": {},
   "outputs": [
    {
     "name": "stdout",
     "output_type": "stream",
     "text": [
      "\n",
      "1 \n",
      "2 2 \n",
      "3 3 3 \n",
      "4 4 4 4 \n",
      "5 5 5 5 5 \n",
      "6 6 6 6 6 6 \n",
      "7 7 7 7 7 7 7 \n",
      "8 8 8 8 8 8 8 8 \n",
      "9 9 9 9 9 9 9 9 9 \n",
      "10 10 10 10 10 10 10 10 10 10 \n",
      "11 11 11 11 11 11 11 11 11 11 11 \n",
      "12 12 12 12 12 12 12 12 12 12 12 12 \n",
      "13 13 13 13 13 13 13 13 13 13 13 13 13 \n",
      "14 14 14 14 14 14 14 14 14 14 14 14 14 14 \n"
     ]
    }
   ],
   "source": [
    "r=int(input(\"enter a number\"))\n",
    "n=1\n",
    "for i in range(r):\n",
    "    for j in range(i):\n",
    "        print(i,end=\" \")\n",
    "        n+1\n",
    "    print()    "
   ]
  }
 ],
 "metadata": {
  "kernelspec": {
   "display_name": "base",
   "language": "python",
   "name": "python3"
  },
  "language_info": {
   "codemirror_mode": {
    "name": "ipython",
    "version": 3
   },
   "file_extension": ".py",
   "mimetype": "text/x-python",
   "name": "python",
   "nbconvert_exporter": "python",
   "pygments_lexer": "ipython3",
   "version": "3.12.7"
  }
 },
 "nbformat": 4,
 "nbformat_minor": 5
}
