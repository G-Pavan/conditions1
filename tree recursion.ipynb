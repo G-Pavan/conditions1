{
 "cells": [
  {
   "cell_type": "code",
   "execution_count": 4,
   "id": "5fd5677d",
   "metadata": {},
   "outputs": [
    {
     "name": "stdout",
     "output_type": "stream",
     "text": [
      "fiboacci series...\n",
      "0 1 1 2 "
     ]
    }
   ],
   "source": [
    "#fib on tree recursions 0 0 1 1 2 \n",
    "def fib(n):\n",
    "    if n<=1:\n",
    "        return n\n",
    "    return fib(n-1)+fib(n-2)\n",
    "terms=int(input(\"enter number of terms to print:\"))\n",
    "print((\"fiboacci series...\"))\n",
    "for i in range(terms):\n",
    "    print(fib(i),end=\" \")"
   ]
  },
  {
   "cell_type": "code",
   "execution_count": null,
   "id": "080b733f",
   "metadata": {},
   "outputs": [
    {
     "name": "stdout",
     "output_type": "stream",
     "text": [
      "posibilities of combinations....\n",
      " abc\n",
      " acb\n",
      " bac\n",
      " bca\n",
      " cab\n",
      " cba\n"
     ]
    }
   ],
   "source": [
    "'''permutation of char in tree recursion'''\n",
    "def permute(s,bucket=\" \"):\n",
    "    if not s:\n",
    "        print(bucket)\n",
    "        return\n",
    "    for i in range(len(s)):\n",
    "        ns=s[:i]+s[i+1:]\n",
    "        permute(ns,bucket+s[i])\n",
    "text=input(\"enter a name/word\")\n",
    "print(\"posibilities of combinations....\")\n",
    "permute(text)"
   ]
  },
  {
   "cell_type": "code",
   "execution_count": 26,
   "id": "29169530",
   "metadata": {},
   "outputs": [
    {
     "name": "stdout",
     "output_type": "stream",
     "text": [
      "\n",
      "a\n",
      "ab\n",
      "abc\n"
     ]
    }
   ],
   "source": [
    "txt='abc'\n",
    "for i in range(len(txt)+1):\n",
    "    print(txt[:i])"
   ]
  },
  {
   "cell_type": "code",
   "execution_count": 8,
   "id": "f110ac70",
   "metadata": {},
   "outputs": [
    {
     "name": "stdout",
     "output_type": "stream",
     "text": [
      "binary combinations....\n",
      " 0000\n",
      " 0001\n",
      " 0010\n",
      " 0011\n",
      " 0100\n",
      " 0101\n",
      " 0110\n",
      " 0111\n",
      " 1000\n",
      " 1001\n",
      " 1010\n",
      " 1011\n",
      " 1100\n",
      " 1101\n",
      " 1110\n",
      " 1111\n"
     ]
    }
   ],
   "source": [
    "def binary(n,b=\" \"):\n",
    "    if n==0:\n",
    "        print(b)\n",
    "        return\n",
    "    binary(n-1,b+'0')\n",
    "    binary(n-1,b+'1')\n",
    "length=int(input(\"enter a length of string\"))\n",
    "print(\"binary combinations....\")\n",
    "binary(length)"
   ]
  },
  {
   "cell_type": "code",
   "execution_count": 10,
   "id": "7a1344d6",
   "metadata": {},
   "outputs": [
    {
     "name": "stdout",
     "output_type": "stream",
     "text": [
      "5\n",
      "4\n",
      "3\n",
      "2\n",
      "1\n"
     ]
    }
   ],
   "source": [
    "def tail(n):\n",
    "    if n==0:\n",
    "        return\n",
    "    print(n)\n",
    "    tail(n-1)\n",
    "num=int(input(\"enter a number:\"))\n",
    "tail(num)    \n"
   ]
  },
  {
   "cell_type": "code",
   "execution_count": 15,
   "id": "765bbd57",
   "metadata": {},
   "outputs": [
    {
     "name": "stdout",
     "output_type": "stream",
     "text": [
      "1\n",
      "2\n",
      "3\n",
      "4\n",
      "5\n"
     ]
    }
   ],
   "source": [
    "def head(n):\n",
    "    if n==0:\n",
    "        return\n",
    "    \n",
    "    head(n-1)\n",
    "    print(n)\n",
    "num=int(input(\"enter a number:\"))\n",
    "head(num)    \n"
   ]
  },
  {
   "cell_type": "code",
   "execution_count": 18,
   "id": "c4daed57",
   "metadata": {},
   "outputs": [
    {
     "name": "stdout",
     "output_type": "stream",
     "text": [
      "sum: 55\n"
     ]
    }
   ],
   "source": [
    "def sumtail(n,temp=0):\n",
    "    if n==0:\n",
    "        return temp\n",
    "    return sumtail(n-1,temp+n)\n",
    "num=int(input(\"enter a nuber:\"))\n",
    "print(\"sum:\",sumtail(num))"
   ]
  },
  {
   "cell_type": "code",
   "execution_count": 19,
   "id": "783bfe0f",
   "metadata": {},
   "outputs": [
    {
     "name": "stdout",
     "output_type": "stream",
     "text": [
      "sum: 78\n"
     ]
    }
   ],
   "source": [
    "def sumhead(n):\n",
    "    if n==0:\n",
    "        return 0\n",
    "    return n+sumhead(n-1)\n",
    "num=int(input(\"enter a nuber:\"))\n",
    "print(\"sum:\",sumhead(num))"
   ]
  }
 ],
 "metadata": {
  "kernelspec": {
   "display_name": "Python 3",
   "language": "python",
   "name": "python3"
  },
  "language_info": {
   "codemirror_mode": {
    "name": "ipython",
    "version": 3
   },
   "file_extension": ".py",
   "mimetype": "text/x-python",
   "name": "python",
   "nbconvert_exporter": "python",
   "pygments_lexer": "ipython3",
   "version": "3.13.1"
  }
 },
 "nbformat": 4,
 "nbformat_minor": 5
}
